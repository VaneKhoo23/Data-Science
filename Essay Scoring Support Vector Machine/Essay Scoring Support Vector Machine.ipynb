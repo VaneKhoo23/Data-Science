{
 "cells": [
  {
   "cell_type": "markdown",
   "metadata": {},
   "source": [
    "<div style=\"text-align:right;\"> <h1 style=\"font-size: 25px;\"> Essay Scoring Support Vector Machine</h1></div>\n",
    "\n",
    "<br>\n",
    "<div style=\"text-align:right;\"> <h1 style=\"font-size: 12px; font-weight: normal;\">Vanessa Khoo</h1> </div>\n",
    "<div style=\"text-align:right;\"> <h1 style=\"font-size: 12px; font-weight: normal;\">30 April 2021</h1> </div>"
   ]
  },
  {
   "cell_type": "markdown",
   "metadata": {},
   "source": [
    "## Introduction"
   ]
  },
  {
   "cell_type": "markdown",
   "metadata": {},
   "source": [
    "**This assignment is to test our ability to:**\n",
    "1. Read and describe the data using basic statistics and with NLP (natural language processing) terms\n",
    "2. Split the dataset into training and testing (/validation)\n",
    "3. Conduct multi-class specification using SVM / Regression (Support Vector Machines)\n",
    "4. Communicate output of our analysis using QWK\n",
    "5. Experience independent model evaluation through in-class Kaggle competition.\n",
    "\n",
    "We are given 3 sets of data: **FIT1043-Essay-Features**, which we will split up for training and testing, **FIT1043-Essay-Features-Submission**, which will be the dataset without labels and will be used for us to predict the essay 'scores' using our model previously built, and **99999999-YourName-1**, which is where our output scores from 2) will be written to. \n",
    "\n",
    "-------------------------------------------------------------------------------------------------------------------------------\n",
    "\n",
    "I will approach this assignment and problem by splitting it into **6 main phases** for me to tackle: \n",
    "1. Reading & Describing (Descriptive Statistics), \n",
    "2. Spliting of data & Supervised Learning,\n",
    "3. Data Normalisation\n",
    "4. Data Classification (SVM),\n",
    "5. Model Testing,\n",
    "6. Kaggle Submission Preparation"
   ]
  },
  {
   "cell_type": "markdown",
   "metadata": {},
   "source": [
    "# Task 1. Reading & Describing (Descriptive Statistics)"
   ]
  },
  {
   "cell_type": "markdown",
   "metadata": {},
   "source": [
    "### 1.1 Importing Libraries\n",
    "\n",
    "The 1st step is to import the library **pandas**, which is an open source data analysis tool for the python programming language. The purpose of importing this library is to use the data structure such as _DataFrame_ and it's associated functions such as reading from CSV files and so on.\n",
    "\n",
    "We are also to import the neccessary libraries such as **numpy**, **matplotlib.pyplot**, **random**., as well as **sklearn.preprocessing** and **sklearn.model_selection**.\n",
    "\n",
    "Note that more libraries will be imported later in specific cells when they are needed."
   ]
  },
  {
   "cell_type": "code",
   "execution_count": 1,
   "metadata": {
    "scrolled": true
   },
   "outputs": [],
   "source": [
    "# Import\n",
    "import pandas as pd\n",
    "import numpy as np\n",
    "import matplotlib.pyplot as plt\n",
    "import random as rd\n",
    "import sklearn.preprocessing\n",
    "import sklearn.model_selection # for Split arrays or matrices into random train and test subsets"
   ]
  },
  {
   "cell_type": "markdown",
   "metadata": {},
   "source": [
    "### 1.2 Reading & Understanding the dataset (FIT1043-Essay-Features)"
   ]
  },
  {
   "cell_type": "code",
   "execution_count": 2,
   "metadata": {},
   "outputs": [],
   "source": [
    "essaydf = pd.read_csv(\"C:\\\\Users\\\\Aaron Khoo\\\\Documents\\\\Vanessa\\\\1_Monash\\\\Y1S2\\\\FIT1043\\\\Assignment\\\\Assignment 2\\\\data\\\\FIT1043-Essay-Features.csv\")"
   ]
  },
  {
   "cell_type": "markdown",
   "metadata": {},
   "source": [
    "Let us see a sample of the data with .head()."
   ]
  },
  {
   "cell_type": "code",
   "execution_count": 3,
   "metadata": {
    "scrolled": false
   },
   "outputs": [
    {
     "data": {
      "text/html": [
       "<div>\n",
       "<style scoped>\n",
       "    .dataframe tbody tr th:only-of-type {\n",
       "        vertical-align: middle;\n",
       "    }\n",
       "\n",
       "    .dataframe tbody tr th {\n",
       "        vertical-align: top;\n",
       "    }\n",
       "\n",
       "    .dataframe thead th {\n",
       "        text-align: right;\n",
       "    }\n",
       "</style>\n",
       "<table border=\"1\" class=\"dataframe\">\n",
       "  <thead>\n",
       "    <tr style=\"text-align: right;\">\n",
       "      <th></th>\n",
       "      <th>essayid</th>\n",
       "      <th>chars</th>\n",
       "      <th>words</th>\n",
       "      <th>commas</th>\n",
       "      <th>apostrophes</th>\n",
       "      <th>punctuations</th>\n",
       "      <th>avg_word_length</th>\n",
       "      <th>sentences</th>\n",
       "      <th>questions</th>\n",
       "      <th>avg_word_sentence</th>\n",
       "      <th>POS</th>\n",
       "      <th>POS/total_words</th>\n",
       "      <th>prompt_words</th>\n",
       "      <th>prompt_words/total_words</th>\n",
       "      <th>synonym_words</th>\n",
       "      <th>synonym_words/total_words</th>\n",
       "      <th>unstemmed</th>\n",
       "      <th>stemmed</th>\n",
       "      <th>score</th>\n",
       "    </tr>\n",
       "  </thead>\n",
       "  <tbody>\n",
       "    <tr>\n",
       "      <th>0</th>\n",
       "      <td>1457</td>\n",
       "      <td>2153</td>\n",
       "      <td>426</td>\n",
       "      <td>14</td>\n",
       "      <td>6</td>\n",
       "      <td>0</td>\n",
       "      <td>5.053991</td>\n",
       "      <td>16</td>\n",
       "      <td>0</td>\n",
       "      <td>26.625000</td>\n",
       "      <td>423.995272</td>\n",
       "      <td>0.995294</td>\n",
       "      <td>207</td>\n",
       "      <td>0.485915</td>\n",
       "      <td>105</td>\n",
       "      <td>0.246479</td>\n",
       "      <td>424</td>\n",
       "      <td>412</td>\n",
       "      <td>4</td>\n",
       "    </tr>\n",
       "    <tr>\n",
       "      <th>1</th>\n",
       "      <td>503</td>\n",
       "      <td>1480</td>\n",
       "      <td>292</td>\n",
       "      <td>9</td>\n",
       "      <td>7</td>\n",
       "      <td>0</td>\n",
       "      <td>5.068493</td>\n",
       "      <td>11</td>\n",
       "      <td>0</td>\n",
       "      <td>26.545455</td>\n",
       "      <td>290.993103</td>\n",
       "      <td>0.996552</td>\n",
       "      <td>148</td>\n",
       "      <td>0.506849</td>\n",
       "      <td>77</td>\n",
       "      <td>0.263699</td>\n",
       "      <td>356</td>\n",
       "      <td>345</td>\n",
       "      <td>4</td>\n",
       "    </tr>\n",
       "    <tr>\n",
       "      <th>2</th>\n",
       "      <td>253</td>\n",
       "      <td>3964</td>\n",
       "      <td>849</td>\n",
       "      <td>19</td>\n",
       "      <td>26</td>\n",
       "      <td>1</td>\n",
       "      <td>4.669022</td>\n",
       "      <td>49</td>\n",
       "      <td>2</td>\n",
       "      <td>17.326531</td>\n",
       "      <td>843.990544</td>\n",
       "      <td>0.994100</td>\n",
       "      <td>285</td>\n",
       "      <td>0.335689</td>\n",
       "      <td>130</td>\n",
       "      <td>0.153121</td>\n",
       "      <td>750</td>\n",
       "      <td>750</td>\n",
       "      <td>4</td>\n",
       "    </tr>\n",
       "    <tr>\n",
       "      <th>3</th>\n",
       "      <td>107</td>\n",
       "      <td>988</td>\n",
       "      <td>210</td>\n",
       "      <td>8</td>\n",
       "      <td>7</td>\n",
       "      <td>0</td>\n",
       "      <td>4.704762</td>\n",
       "      <td>12</td>\n",
       "      <td>0</td>\n",
       "      <td>17.500000</td>\n",
       "      <td>207.653784</td>\n",
       "      <td>0.988828</td>\n",
       "      <td>112</td>\n",
       "      <td>0.533333</td>\n",
       "      <td>62</td>\n",
       "      <td>0.295238</td>\n",
       "      <td>217</td>\n",
       "      <td>209</td>\n",
       "      <td>3</td>\n",
       "    </tr>\n",
       "    <tr>\n",
       "      <th>4</th>\n",
       "      <td>1450</td>\n",
       "      <td>3139</td>\n",
       "      <td>600</td>\n",
       "      <td>13</td>\n",
       "      <td>8</td>\n",
       "      <td>0</td>\n",
       "      <td>5.231667</td>\n",
       "      <td>24</td>\n",
       "      <td>1</td>\n",
       "      <td>25.000000</td>\n",
       "      <td>594.652150</td>\n",
       "      <td>0.991087</td>\n",
       "      <td>255</td>\n",
       "      <td>0.425000</td>\n",
       "      <td>165</td>\n",
       "      <td>0.275000</td>\n",
       "      <td>702</td>\n",
       "      <td>677</td>\n",
       "      <td>4</td>\n",
       "    </tr>\n",
       "  </tbody>\n",
       "</table>\n",
       "</div>"
      ],
      "text/plain": [
       "   essayid  chars  words  commas  apostrophes  punctuations  avg_word_length  \\\n",
       "0     1457   2153    426      14            6             0         5.053991   \n",
       "1      503   1480    292       9            7             0         5.068493   \n",
       "2      253   3964    849      19           26             1         4.669022   \n",
       "3      107    988    210       8            7             0         4.704762   \n",
       "4     1450   3139    600      13            8             0         5.231667   \n",
       "\n",
       "   sentences  questions  avg_word_sentence         POS  POS/total_words  \\\n",
       "0         16          0          26.625000  423.995272         0.995294   \n",
       "1         11          0          26.545455  290.993103         0.996552   \n",
       "2         49          2          17.326531  843.990544         0.994100   \n",
       "3         12          0          17.500000  207.653784         0.988828   \n",
       "4         24          1          25.000000  594.652150         0.991087   \n",
       "\n",
       "   prompt_words  prompt_words/total_words  synonym_words  \\\n",
       "0           207                  0.485915            105   \n",
       "1           148                  0.506849             77   \n",
       "2           285                  0.335689            130   \n",
       "3           112                  0.533333             62   \n",
       "4           255                  0.425000            165   \n",
       "\n",
       "   synonym_words/total_words  unstemmed  stemmed  score  \n",
       "0                   0.246479        424      412      4  \n",
       "1                   0.263699        356      345      4  \n",
       "2                   0.153121        750      750      4  \n",
       "3                   0.295238        217      209      3  \n",
       "4                   0.275000        702      677      4  "
      ]
     },
     "execution_count": 3,
     "metadata": {},
     "output_type": "execute_result"
    }
   ],
   "source": [
    "essaydf.head(5)"
   ]
  },
  {
   "cell_type": "markdown",
   "metadata": {},
   "source": [
    "Let's take a look at the shape of the dataframe too. Running df.shape will return information about the dimensionality of our dataframe (rows & columns), which will tell us how many examples & features we are working with."
   ]
  },
  {
   "cell_type": "code",
   "execution_count": 4,
   "metadata": {
    "scrolled": true
   },
   "outputs": [
    {
     "data": {
      "text/plain": [
       "(1332, 19)"
      ]
     },
     "execution_count": 4,
     "metadata": {},
     "output_type": "execute_result"
    }
   ],
   "source": [
    "essaydf.shape"
   ]
  },
  {
   "cell_type": "markdown",
   "metadata": {},
   "source": [
    "**Let us now understand what features this dataset contains more thoroughly. We need to keep a lookout for things such as duplicate labels, erroneous or null values. Thus, let us see how many missing values (NAN values) are in the dataset with the cell below. I will assume that values of 0 are NOT missing values.**"
   ]
  },
  {
   "cell_type": "code",
   "execution_count": 5,
   "metadata": {},
   "outputs": [
    {
     "name": "stdout",
     "output_type": "stream",
     "text": [
      "0\n"
     ]
    }
   ],
   "source": [
    "# Count the number of NAN values with .isna() & .sum()\n",
    "numNAN = essaydf.isna().sum().sum()\n",
    "print(numNAN)"
   ]
  },
  {
   "cell_type": "markdown",
   "metadata": {},
   "source": [
    "Thus, from the above count, we can conclude that there are **no** missing (NAN) values after thorough checking of the dataset."
   ]
  },
  {
   "cell_type": "markdown",
   "metadata": {},
   "source": [
    "#### Let us now explain what each column in the essaydf represents. I will be giving some examples of some columns' data for those that were vaguely described in the assignment specifications.\n",
    "\n",
    "1. essayid: the id of the essay.\n",
    "\n",
    "\n",
    "2. chars: number of characters in the essay.\n",
    "\n",
    "\n",
    "3. words: number of words in the essay.\n",
    "\n",
    "\n",
    "4. commas: number of commas in the eassy.\n",
    "\n",
    "\n",
    "5. apostrohpes: number of apostrohpes in the essay.\n",
    "\n",
    "\n",
    "6. punctuations: number of punctuations (other than '.', '?', ''', ',')\n",
    "\n",
    "\n",
    "7. avg_word_length: the avg length of the words\n",
    "\n",
    "\n",
    "8. sentences: number of sentences.\n",
    "\n",
    "\n",
    "9. questions: number of questions.\n",
    "\n",
    "\n",
    "10. avg_word_sentence: the avg word count in a sentence\n",
    "\n",
    "\n",
    "11. POS: number of Part-Of-Speech words. \n",
    "\n",
    "There are 9 Parts of speech (nouns,adjectives, verbs, etc), thus Part-Of-Speech words in this case means words that can be more than one part of speech, or basically more than one job in the English language. Examples: \"work\" can be a verb and a noun; \"but\" can be a conjunction and a preposition.\n",
    "\n",
    "\n",
    "12. POS/total_words: fraction of POS words over word count.\n",
    "\n",
    "\n",
    "13. prompt_words: prompt words are words related to the essay topic. \n",
    "\n",
    "For example, for an essay topic like 'Impact of COVID-19', prompt words would be like : 'vaccines', 'vaccinated', 'virus'\n",
    "\n",
    "\n",
    "14. prompt_words/total_words: fraction of prompt_words over word count\n",
    "\n",
    "\n",
    "15. synonym_words: words that are synonymous (that have same or similar meaning). \n",
    "\n",
    "For example, 'improved and 'better' are synonymous words.\n",
    "\n",
    "\n",
    "16. synonym_words/total_words: fraction of synonymous words over word count. \n",
    "\n",
    "\n",
    "17. unstemmed: number of unstemmed words\n",
    "\n",
    "Unstemmed words are words that have not been cut to its base word. \n",
    "For example, 'playing' is an unstemmed word of the base/root stem word 'play.\n",
    "\n",
    "\n",
    "18. stemmed: number of stemmed words. \n",
    "\n",
    "Stemmed words are words that have been cut to its base word. For example, 'play' is a stem word."
   ]
  },
  {
   "cell_type": "markdown",
   "metadata": {},
   "source": [
    "### 1.3 Basic Descriptive Statistics of read file\n",
    "\n",
    "**We will use .describe() to generate the basic 5-number statistics/metrics for each of the column's data.**"
   ]
  },
  {
   "cell_type": "code",
   "execution_count": 6,
   "metadata": {
    "scrolled": true
   },
   "outputs": [
    {
     "data": {
      "text/html": [
       "<div>\n",
       "<style scoped>\n",
       "    .dataframe tbody tr th:only-of-type {\n",
       "        vertical-align: middle;\n",
       "    }\n",
       "\n",
       "    .dataframe tbody tr th {\n",
       "        vertical-align: top;\n",
       "    }\n",
       "\n",
       "    .dataframe thead th {\n",
       "        text-align: right;\n",
       "    }\n",
       "</style>\n",
       "<table border=\"1\" class=\"dataframe\">\n",
       "  <thead>\n",
       "    <tr style=\"text-align: right;\">\n",
       "      <th></th>\n",
       "      <th>essayid</th>\n",
       "      <th>chars</th>\n",
       "      <th>words</th>\n",
       "      <th>commas</th>\n",
       "      <th>apostrophes</th>\n",
       "      <th>punctuations</th>\n",
       "      <th>avg_word_length</th>\n",
       "      <th>sentences</th>\n",
       "      <th>questions</th>\n",
       "      <th>avg_word_sentence</th>\n",
       "      <th>POS</th>\n",
       "      <th>POS/total_words</th>\n",
       "      <th>prompt_words</th>\n",
       "      <th>prompt_words/total_words</th>\n",
       "      <th>synonym_words</th>\n",
       "      <th>synonym_words/total_words</th>\n",
       "      <th>unstemmed</th>\n",
       "      <th>stemmed</th>\n",
       "      <th>score</th>\n",
       "    </tr>\n",
       "  </thead>\n",
       "  <tbody>\n",
       "    <tr>\n",
       "      <th>count</th>\n",
       "      <td>1332.00000</td>\n",
       "      <td>1332.000000</td>\n",
       "      <td>1332.000000</td>\n",
       "      <td>1332.000000</td>\n",
       "      <td>1332.000000</td>\n",
       "      <td>1332.00000</td>\n",
       "      <td>1332.000000</td>\n",
       "      <td>1332.000000</td>\n",
       "      <td>1332.000000</td>\n",
       "      <td>1332.000000</td>\n",
       "      <td>1332.000000</td>\n",
       "      <td>1332.000000</td>\n",
       "      <td>1332.000000</td>\n",
       "      <td>1332.000000</td>\n",
       "      <td>1332.00000</td>\n",
       "      <td>1332.000000</td>\n",
       "      <td>1332.000000</td>\n",
       "      <td>1332.000000</td>\n",
       "      <td>1332.000000</td>\n",
       "    </tr>\n",
       "    <tr>\n",
       "      <th>mean</th>\n",
       "      <td>905.27027</td>\n",
       "      <td>2101.745495</td>\n",
       "      <td>424.485736</td>\n",
       "      <td>14.667417</td>\n",
       "      <td>8.141141</td>\n",
       "      <td>0.47973</td>\n",
       "      <td>4.939762</td>\n",
       "      <td>19.704204</td>\n",
       "      <td>1.222973</td>\n",
       "      <td>23.884687</td>\n",
       "      <td>420.596542</td>\n",
       "      <td>0.989935</td>\n",
       "      <td>198.913664</td>\n",
       "      <td>0.469164</td>\n",
       "      <td>110.16967</td>\n",
       "      <td>0.263846</td>\n",
       "      <td>468.987988</td>\n",
       "      <td>455.507508</td>\n",
       "      <td>3.427177</td>\n",
       "    </tr>\n",
       "    <tr>\n",
       "      <th>std</th>\n",
       "      <td>526.68760</td>\n",
       "      <td>865.963750</td>\n",
       "      <td>171.873730</td>\n",
       "      <td>10.920781</td>\n",
       "      <td>6.124520</td>\n",
       "      <td>1.27168</td>\n",
       "      <td>0.231071</td>\n",
       "      <td>19.202731</td>\n",
       "      <td>1.847446</td>\n",
       "      <td>11.160020</td>\n",
       "      <td>170.985111</td>\n",
       "      <td>0.007308</td>\n",
       "      <td>82.729266</td>\n",
       "      <td>0.052466</td>\n",
       "      <td>43.96192</td>\n",
       "      <td>0.038870</td>\n",
       "      <td>159.447449</td>\n",
       "      <td>155.751220</td>\n",
       "      <td>0.774275</td>\n",
       "    </tr>\n",
       "    <tr>\n",
       "      <th>min</th>\n",
       "      <td>0.00000</td>\n",
       "      <td>169.000000</td>\n",
       "      <td>36.000000</td>\n",
       "      <td>0.000000</td>\n",
       "      <td>2.000000</td>\n",
       "      <td>0.00000</td>\n",
       "      <td>2.231322</td>\n",
       "      <td>0.000000</td>\n",
       "      <td>0.000000</td>\n",
       "      <td>1.084112</td>\n",
       "      <td>35.647059</td>\n",
       "      <td>0.924771</td>\n",
       "      <td>14.000000</td>\n",
       "      <td>0.288889</td>\n",
       "      <td>11.00000</td>\n",
       "      <td>0.027299</td>\n",
       "      <td>48.000000</td>\n",
       "      <td>50.000000</td>\n",
       "      <td>1.000000</td>\n",
       "    </tr>\n",
       "    <tr>\n",
       "      <th>25%</th>\n",
       "      <td>442.75000</td>\n",
       "      <td>1527.250000</td>\n",
       "      <td>310.000000</td>\n",
       "      <td>7.000000</td>\n",
       "      <td>4.000000</td>\n",
       "      <td>0.00000</td>\n",
       "      <td>4.791679</td>\n",
       "      <td>13.000000</td>\n",
       "      <td>0.000000</td>\n",
       "      <td>19.142857</td>\n",
       "      <td>305.406284</td>\n",
       "      <td>0.987758</td>\n",
       "      <td>144.000000</td>\n",
       "      <td>0.435709</td>\n",
       "      <td>81.00000</td>\n",
       "      <td>0.238423</td>\n",
       "      <td>361.000000</td>\n",
       "      <td>350.750000</td>\n",
       "      <td>3.000000</td>\n",
       "    </tr>\n",
       "    <tr>\n",
       "      <th>50%</th>\n",
       "      <td>914.50000</td>\n",
       "      <td>2029.500000</td>\n",
       "      <td>411.000000</td>\n",
       "      <td>13.000000</td>\n",
       "      <td>6.000000</td>\n",
       "      <td>0.00000</td>\n",
       "      <td>4.946059</td>\n",
       "      <td>18.000000</td>\n",
       "      <td>1.000000</td>\n",
       "      <td>22.030331</td>\n",
       "      <td>406.982869</td>\n",
       "      <td>0.991572</td>\n",
       "      <td>193.000000</td>\n",
       "      <td>0.465852</td>\n",
       "      <td>107.50000</td>\n",
       "      <td>0.262872</td>\n",
       "      <td>463.000000</td>\n",
       "      <td>448.000000</td>\n",
       "      <td>3.000000</td>\n",
       "    </tr>\n",
       "    <tr>\n",
       "      <th>75%</th>\n",
       "      <td>1369.75000</td>\n",
       "      <td>2613.500000</td>\n",
       "      <td>525.000000</td>\n",
       "      <td>21.000000</td>\n",
       "      <td>11.000000</td>\n",
       "      <td>0.00000</td>\n",
       "      <td>5.092938</td>\n",
       "      <td>24.000000</td>\n",
       "      <td>2.000000</td>\n",
       "      <td>26.048234</td>\n",
       "      <td>520.739458</td>\n",
       "      <td>0.994425</td>\n",
       "      <td>246.000000</td>\n",
       "      <td>0.500000</td>\n",
       "      <td>134.00000</td>\n",
       "      <td>0.288277</td>\n",
       "      <td>581.000000</td>\n",
       "      <td>561.250000</td>\n",
       "      <td>4.000000</td>\n",
       "    </tr>\n",
       "    <tr>\n",
       "      <th>max</th>\n",
       "      <td>1799.00000</td>\n",
       "      <td>6142.000000</td>\n",
       "      <td>1170.000000</td>\n",
       "      <td>72.000000</td>\n",
       "      <td>51.000000</td>\n",
       "      <td>26.00000</td>\n",
       "      <td>5.681429</td>\n",
       "      <td>642.000000</td>\n",
       "      <td>17.000000</td>\n",
       "      <td>303.000000</td>\n",
       "      <td>1158.984563</td>\n",
       "      <td>1.000000</td>\n",
       "      <td>669.000000</td>\n",
       "      <td>0.961207</td>\n",
       "      <td>355.00000</td>\n",
       "      <td>0.465517</td>\n",
       "      <td>750.000000</td>\n",
       "      <td>750.000000</td>\n",
       "      <td>6.000000</td>\n",
       "    </tr>\n",
       "  </tbody>\n",
       "</table>\n",
       "</div>"
      ],
      "text/plain": [
       "          essayid        chars        words       commas  apostrophes  \\\n",
       "count  1332.00000  1332.000000  1332.000000  1332.000000  1332.000000   \n",
       "mean    905.27027  2101.745495   424.485736    14.667417     8.141141   \n",
       "std     526.68760   865.963750   171.873730    10.920781     6.124520   \n",
       "min       0.00000   169.000000    36.000000     0.000000     2.000000   \n",
       "25%     442.75000  1527.250000   310.000000     7.000000     4.000000   \n",
       "50%     914.50000  2029.500000   411.000000    13.000000     6.000000   \n",
       "75%    1369.75000  2613.500000   525.000000    21.000000    11.000000   \n",
       "max    1799.00000  6142.000000  1170.000000    72.000000    51.000000   \n",
       "\n",
       "       punctuations  avg_word_length    sentences    questions  \\\n",
       "count    1332.00000      1332.000000  1332.000000  1332.000000   \n",
       "mean        0.47973         4.939762    19.704204     1.222973   \n",
       "std         1.27168         0.231071    19.202731     1.847446   \n",
       "min         0.00000         2.231322     0.000000     0.000000   \n",
       "25%         0.00000         4.791679    13.000000     0.000000   \n",
       "50%         0.00000         4.946059    18.000000     1.000000   \n",
       "75%         0.00000         5.092938    24.000000     2.000000   \n",
       "max        26.00000         5.681429   642.000000    17.000000   \n",
       "\n",
       "       avg_word_sentence          POS  POS/total_words  prompt_words  \\\n",
       "count        1332.000000  1332.000000      1332.000000   1332.000000   \n",
       "mean           23.884687   420.596542         0.989935    198.913664   \n",
       "std            11.160020   170.985111         0.007308     82.729266   \n",
       "min             1.084112    35.647059         0.924771     14.000000   \n",
       "25%            19.142857   305.406284         0.987758    144.000000   \n",
       "50%            22.030331   406.982869         0.991572    193.000000   \n",
       "75%            26.048234   520.739458         0.994425    246.000000   \n",
       "max           303.000000  1158.984563         1.000000    669.000000   \n",
       "\n",
       "       prompt_words/total_words  synonym_words  synonym_words/total_words  \\\n",
       "count               1332.000000     1332.00000                1332.000000   \n",
       "mean                   0.469164      110.16967                   0.263846   \n",
       "std                    0.052466       43.96192                   0.038870   \n",
       "min                    0.288889       11.00000                   0.027299   \n",
       "25%                    0.435709       81.00000                   0.238423   \n",
       "50%                    0.465852      107.50000                   0.262872   \n",
       "75%                    0.500000      134.00000                   0.288277   \n",
       "max                    0.961207      355.00000                   0.465517   \n",
       "\n",
       "         unstemmed      stemmed        score  \n",
       "count  1332.000000  1332.000000  1332.000000  \n",
       "mean    468.987988   455.507508     3.427177  \n",
       "std     159.447449   155.751220     0.774275  \n",
       "min      48.000000    50.000000     1.000000  \n",
       "25%     361.000000   350.750000     3.000000  \n",
       "50%     463.000000   448.000000     3.000000  \n",
       "75%     581.000000   561.250000     4.000000  \n",
       "max     750.000000   750.000000     6.000000  "
      ]
     },
     "execution_count": 6,
     "metadata": {},
     "output_type": "execute_result"
    }
   ],
   "source": [
    "# Descriptive Statistics of read file\n",
    "essaydf.describe()"
   ]
  },
  {
   "cell_type": "markdown",
   "metadata": {},
   "source": [
    "### Descriptive Statistics of the data above (based on metrics above):\n",
    "\n",
    "**Measures of Centrality: Mean & Median Values**\n",
    "\n",
    "1) Columns with **mean lower than the median**: ***avg_word_length, pos/total_words***. This would mean that the distribution for this is negatively skewed but note that for BOTH of these columns the difference between mean & median is very very small (about 0.01 for avg_word_length & pos/total_words), thus they have an _almost_ symmetrical distribution. \n",
    "\n",
    "2) Columns with **mean greater than median** but have very slight difference: ***prompt_words/total_words***, synonym_words/total_words. For both these columns, the difference between mean & median is very very slight as well. (about 0.04 for prompt_words/total_words & 0.01 for synonym_words/total_words). Thus, the distribution for these two columns are positively skewed but should be close to a symmetric distribution.\n",
    "    \n",
    "3) Columns with **mean greater than median** with a distinct difference: the ***rest of the columns*** (those not already mentioned above). When the mean is greater than median, the distribution for these columns is a positively skewed distrubution.\n",
    "   \n",
    "   \n",
    "\n",
    "**Measure of Spread: Interquartile Range**\n",
    "\n",
    "Interquartile range tells us how far apart the first and third quartile are and so indicates how spread out the middle 50% of our set of data is. It can also be useful in identifying when a value is an outlier.\n",
    "\n",
    "1) The IQR for each column indicates how spread out the middle 50% of the data is. We can observe from the above that:\n",
    "\n",
    "For example, columns like ***chars, words, POS, prompt_words, synonym_words, unstemmed & stemmed***, all have a high spread (IQR about > 100 for each of them).\n",
    "\n",
    "The ***rest of the columns*** have a small IQR either due to (1) the limitations of the values (eg: for score only values from 1-6 are entered), or (2) columns that we can expect to have low variability or difference, eg: ratios like prompt_words/total_words and low-value columns like punctuations (meaning punctuations other than '.', '?', ''', ',')).\n",
    "\n",
    "We can see that there ***might*** be outliers (maximum values way above the 3rd quartile) for these columns: chars, words, commas, apostrophes, punctuations, sentences, questions, avg_word_sentence, POSprompt_words, prompt_words/total_words, synonym_words & synonym_words/total_words, as their maximum is much greater than the 3rd quartile.\n",
    "    \n",
    "We can also observe that there ***might*** be outliers (minimum values way below the 1st quartile) for these columns: chars, words, POS, prompt_words, unstemmed & stemmed, as their minimum is much lower than the 1st quartile.\n",
    "\n",
    "\n",
    "\n",
    "**Measure of Spread: Standard Deviation**\n",
    "\n",
    "Note: A low standard deviation indicates that the data points tend to be very close to the mean; a high standard deviation indicates that the data points are spread out over a large range of values. \n",
    "\n",
    "For a more accurate analysis of the spread based on standard deviation, let us find the **Coefficient of Variation** (CV = (Standard Deviation / Mean) * 100) for each column in the cell below by defining the function to calculate the CV (in decimal ratio NOT as a percentage for convenience & simplicity) and then using df.apply(function) to apply the function to the dataset read."
   ]
  },
  {
   "cell_type": "code",
   "execution_count": 7,
   "metadata": {
    "scrolled": true
   },
   "outputs": [
    {
     "name": "stdout",
     "output_type": "stream",
     "text": [
      "essayid                      0.581801\n",
      "chars                        0.412021\n",
      "words                        0.404899\n",
      "commas                       0.744561\n",
      "apostrophes                  0.752293\n",
      "punctuations                 2.650826\n",
      "avg_word_length              0.046778\n",
      "sentences                    0.974550\n",
      "questions                    1.510619\n",
      "avg_word_sentence            0.467246\n",
      "POS                          0.406530\n",
      "POS/total_words              0.007383\n",
      "prompt_words                 0.415905\n",
      "prompt_words/total_words     0.111829\n",
      "synonym_words                0.399038\n",
      "synonym_words/total_words    0.147323\n",
      "unstemmed                    0.339982\n",
      "stemmed                      0.341929\n",
      "score                        0.225922\n",
      "dtype: float64\n"
     ]
    }
   ],
   "source": [
    "# define function to calculate coefficient of variation (there is no *100 because I wish to show the CV as decimal ratios)\n",
    "cv = lambda x: np.std(x, ddof=1) / np.mean(x)\n",
    "\n",
    "# apply cv function to dataset\n",
    "cvs = essaydf.apply(cv)\n",
    "print(cvs)\n",
    "\n",
    "# Note that missing values will simply be ignored when calculating the coefficient of variation, but there shouldn't be any missing (NAN) values after thorough checking of the dataset (look at section before descriptive analysis)."
   ]
  },
  {
   "cell_type": "markdown",
   "metadata": {},
   "source": [
    "**The higher the coefficient of variation, the greater the spread.**\n",
    "**Therefore, we can observe from the above CVs that:**\n",
    "1. 'punctuations', 'questions' and 'sentences' columns' distributions seem to have a much higher spread (2.65, 1.51 & 0.97 respectively), compared to the rest of the columns."
   ]
  },
  {
   "cell_type": "markdown",
   "metadata": {},
   "source": [
    "-------------------------------------------------------------"
   ]
  },
  {
   "cell_type": "markdown",
   "metadata": {},
   "source": [
    "# Task 2. Supervised Learning\n",
    "##### Before we begin, let us be clear on the concepts used in this task."
   ]
  },
  {
   "cell_type": "markdown",
   "metadata": {},
   "source": [
    "### 2.1 What is Surpervised Learning?\n",
    "\n",
    "Supervised Learning is a type of Machine Learning algorithm learning style, that develops a Machine Learning Model **based on BOTH the input and output of the training data**.\n",
    "\n",
    "In other words this means the model is developed with a training dataset that is LABELLED and that the algorithm learns to predict the output from the input. The goal of Supervised Machine Learning is to approximate the MAPPING function well enough in order to predict the output for input data.\n",
    "\n",
    "Here are 2 examples of Supervised Learning problems:\n",
    "1. Regression (Linear Regression & Polynomial Regression algorithms)\n",
    "2. Classification (Support Vector Machines & Random Forest algorithms)"
   ]
  },
  {
   "cell_type": "markdown",
   "metadata": {},
   "source": [
    "### 2.2 What is Labelled Data and how is it useful?\n",
    "\n",
    "\n",
    "Let us first understand how features & labels are different within a dataset to define labelled data.\n",
    "\n",
    "**Features:** \n",
    "\n",
    "The columns of the table. For example, if we have a bird dataset containing columns = \"name\", \"species\", \"height\", \"weight\", \"number of eggs hatched per month\". In this example, the features would then be name, species, height, weight & number of eggs hatched per month, which is what describes our data. However there are some features which are special and we call them labels.\n",
    "\n",
    "**Labels:**\n",
    "\n",
    "Labels depends on the context of the problem we are trying to solve. In most situations, if we are trying to predict a feature based on the others, that feature is the label. For example in with the essaydf dataset give, we know we are trying to predict the score of a given essay, based on all the other features (eg: prompt_words, chars, etc.), thus 'score' values would be the label.\n",
    "\n",
    "Therefore, Labelled data is basically a dataset that has been tagged with one or more labels (identifying certain properties or characteristics, or classifications or contained objects) that we would want to predict based on the other features later on. Thus, this clearly explains the reason why labelled data is used for training and testing in Supervised Learning."
   ]
  },
  {
   "cell_type": "markdown",
   "metadata": {},
   "source": [
    "### 2.3 What are training and test datasets?\n",
    "\n",
    "Training and testing datasets are generally both from the same labelled dataset that we have for Supervised Learning.\n",
    "The labelled data is split into **2 parts** (eg: 70% for training, 30% for testing) and used in different contexts.\n",
    "\n",
    "The training dataset is what is used in the **development of the Machine Learning Model**. For example, classication learning algorithms (a type of supervised learning problem), work by **dividing the feature space** into **regions of the same type/label** based on both the features and the corresponding labels given.\n",
    "\n",
    "The testing dataset is what is used during the **evaluation of the Machine Learning Model**. This is when the developed/finished ML model is used to predict the label values for the test data. Then, to evaluate how well the model has been able to predict these values, **these predicted values will be compared to the actual truth label values** from the original labelled testing data."
   ]
  },
  {
   "cell_type": "markdown",
   "metadata": {},
   "source": [
    "### 2.4 Feature Selection\n",
    "Feature selection is the process of reducing the number of input variables when developing a predictive model.\n",
    "In this section, let us select certain features from the dataset to be used for training the model, ***before*** splitting them up for training and testing as required by the specifications.\n",
    "\n",
    "#### Feature Selection Technique used: Correlation Matrix\n",
    "\n",
    "Let us choose features based on their correlation with our target variable.\n",
    "Let us import seaborn to use its tools to visualise the correlation between all features."
   ]
  },
  {
   "cell_type": "code",
   "execution_count": 8,
   "metadata": {
    "scrolled": false
   },
   "outputs": [
    {
     "data": {
      "image/png": "[encoded data removed]",
      "text/plain": [
       "<Figure size 1440x1440 with 2 Axes>"
      ]
     },
     "metadata": {
      "needs_background": "light"
     },
     "output_type": "display_data"
    }
   ],
   "source": [
    "# Correlation Matrix\n",
    "import seaborn as sns\n",
    "\n",
    "# get correlations of each feature in dataset\n",
    "data = essaydf.drop(['essayid'], axis = 1)\n",
    "corrmat = data.corr(method='pearson')\n",
    "top_corr_features = corrmat.index\n",
    "\n",
    "# plot heat map with seaborn library\n",
    "plt.figure(figsize=(20,20))\n",
    "g=sns.heatmap(corrmat, annot=True,cmap=\"RdYlGn\")"
   ]
  },
  {
   "cell_type": "markdown",
   "metadata": {},
   "source": [
    "From the above correlation matrix, we can see how well each column is correlated with each other, as well as correlation with the 'score'. Let us only select & use the features that have a strong correlation with the 'score' column (our target).\n",
    "\n",
    "Note: A strong correlation would be a correlation of 0.5 and above.\n",
    "\n",
    "This is done in the following cell."
   ]
  },
  {
   "cell_type": "code",
   "execution_count": 9,
   "metadata": {},
   "outputs": [
    {
     "data": {
      "text/html": [
       "<div>\n",
       "<style scoped>\n",
       "    .dataframe tbody tr th:only-of-type {\n",
       "        vertical-align: middle;\n",
       "    }\n",
       "\n",
       "    .dataframe tbody tr th {\n",
       "        vertical-align: top;\n",
       "    }\n",
       "\n",
       "    .dataframe thead th {\n",
       "        text-align: right;\n",
       "    }\n",
       "</style>\n",
       "<table border=\"1\" class=\"dataframe\">\n",
       "  <thead>\n",
       "    <tr style=\"text-align: right;\">\n",
       "      <th></th>\n",
       "      <th>chars</th>\n",
       "      <th>words</th>\n",
       "      <th>POS</th>\n",
       "      <th>prompt_words</th>\n",
       "      <th>synonym_words</th>\n",
       "      <th>unstemmed</th>\n",
       "      <th>stemmed</th>\n",
       "      <th>score</th>\n",
       "    </tr>\n",
       "  </thead>\n",
       "  <tbody>\n",
       "    <tr>\n",
       "      <th>0</th>\n",
       "      <td>2153</td>\n",
       "      <td>426</td>\n",
       "      <td>423.995272</td>\n",
       "      <td>207</td>\n",
       "      <td>105</td>\n",
       "      <td>424</td>\n",
       "      <td>412</td>\n",
       "      <td>4</td>\n",
       "    </tr>\n",
       "    <tr>\n",
       "      <th>1</th>\n",
       "      <td>1480</td>\n",
       "      <td>292</td>\n",
       "      <td>290.993103</td>\n",
       "      <td>148</td>\n",
       "      <td>77</td>\n",
       "      <td>356</td>\n",
       "      <td>345</td>\n",
       "      <td>4</td>\n",
       "    </tr>\n",
       "    <tr>\n",
       "      <th>2</th>\n",
       "      <td>3964</td>\n",
       "      <td>849</td>\n",
       "      <td>843.990544</td>\n",
       "      <td>285</td>\n",
       "      <td>130</td>\n",
       "      <td>750</td>\n",
       "      <td>750</td>\n",
       "      <td>4</td>\n",
       "    </tr>\n",
       "    <tr>\n",
       "      <th>3</th>\n",
       "      <td>988</td>\n",
       "      <td>210</td>\n",
       "      <td>207.653784</td>\n",
       "      <td>112</td>\n",
       "      <td>62</td>\n",
       "      <td>217</td>\n",
       "      <td>209</td>\n",
       "      <td>3</td>\n",
       "    </tr>\n",
       "    <tr>\n",
       "      <th>4</th>\n",
       "      <td>3139</td>\n",
       "      <td>600</td>\n",
       "      <td>594.652150</td>\n",
       "      <td>255</td>\n",
       "      <td>165</td>\n",
       "      <td>702</td>\n",
       "      <td>677</td>\n",
       "      <td>4</td>\n",
       "    </tr>\n",
       "  </tbody>\n",
       "</table>\n",
       "</div>"
      ],
      "text/plain": [
       "   chars  words         POS  prompt_words  synonym_words  unstemmed  stemmed  \\\n",
       "0   2153    426  423.995272           207            105        424      412   \n",
       "1   1480    292  290.993103           148             77        356      345   \n",
       "2   3964    849  843.990544           285            130        750      750   \n",
       "3    988    210  207.653784           112             62        217      209   \n",
       "4   3139    600  594.652150           255            165        702      677   \n",
       "\n",
       "   score  \n",
       "0      4  \n",
       "1      4  \n",
       "2      4  \n",
       "3      3  \n",
       "4      4  "
      ]
     },
     "execution_count": 9,
     "metadata": {},
     "output_type": "execute_result"
    }
   ],
   "source": [
    "# Columns to remove\n",
    "to_remove = ['essayid', 'commas', 'apostrophes', 'punctuations','avg_word_length', 'sentences', 'questions', 'avg_word_sentence', 'POS/total_words', 'prompt_words/total_words', 'synonym_words/total_words']\n",
    "\n",
    "# Remove features\n",
    "feature_selected_df = essaydf.drop(labels=to_remove, axis=1)\n",
    "feature_selected_df.head()"
   ]
  },
  {
   "cell_type": "markdown",
   "metadata": {},
   "source": [
    "### 2.5 Splitting the dataset by features and labels\n",
    "\n",
    "Let us now do the split of the features and the labels."
   ]
  },
  {
   "cell_type": "code",
   "execution_count": 10,
   "metadata": {},
   "outputs": [],
   "source": [
    "# Split dataset into input & corresponding labelled data\n",
    "X = feature_selected_df.drop(['score'], axis=1) # input data: after pearson correlation feature selection\n",
    "y = feature_selected_df.iloc[:,7].values      # labeled data: score"
   ]
  },
  {
   "cell_type": "markdown",
   "metadata": {},
   "source": [
    "### 2.6 Split the test and train dataset\n",
    "\n",
    "I will put my test_size portion as 20%, and training data size portion as 80%.\n",
    "\n",
    "The rule of thumb is to use either 70/30 or 80/20, so I've used 80/20 here."
   ]
  },
  {
   "cell_type": "code",
   "execution_count": 11,
   "metadata": {},
   "outputs": [],
   "source": [
    "from sklearn.model_selection import train_test_split\n",
    "X_train, X_test, y_train, y_test = train_test_split(X, y, test_size = 0.20)"
   ]
  },
  {
   "cell_type": "markdown",
   "metadata": {},
   "source": [
    "### 2.7 What is binary classication and multi-class classification?\n",
    "\n",
    "Classification refers to a task that requires machine learning algorithms that can learn how to match a class label to examples of the problem. An example: classifying the score an essay should get. (our problem statement in this assignment)\n",
    "\n",
    "Binary classfication refers to the algorithm that predicts 1 class label out of 2 classes. The goal of binary classification is to **categorise data points into one of two buckets**, for example true or false, 0 or 1,  sick or well, black or no black hair.\n",
    "\n",
    "Thus, in binary classification, there is the notion of normal and NOT normal outcomes. (eg: True OR False outcomes)\n",
    "\n",
    "However, multi-class classifcation refers to predicting 1 class out of > 2 classes for each observation. This happens when we have **more than 2 classes in our target variable.** Thus, there is no notion of normal and not normal outcomes, but rather examples are classified as belonging to one among a range of known classes.\n",
    "\n",
    "An example of a multi-class problem would be categorising fruits based on features like colour, size to classify fruits as pears, apples or bananas. (3-class classification)"
   ]
  },
  {
   "cell_type": "markdown",
   "metadata": {},
   "source": [
    "-----------------------------------------------------------------------"
   ]
  },
  {
   "cell_type": "markdown",
   "metadata": {},
   "source": [
    "## Task 3: Data Normalisation"
   ]
  },
  {
   "cell_type": "markdown",
   "metadata": {},
   "source": [
    "### 3.2 Data Normalisation\n",
    "\n",
    "**Purpose of Data Normalisation (Scaling of Data)**\n",
    "\n",
    "Support Vector Machine Algorithm is highly affected by the range of features because SVM is a distance based algorithm. This is because distance based algorithms use **euclidean distances** between the data points to determine their similarity and thus classify/group them during the iterations.\n",
    "\n",
    "Since features have different scales, there is the possibility that the distance will be greatly influenced by the features with a greater range of values. This would impact on the machine learning algorithm's performance, and would cause our algorithm to be biased to that one feature.\n",
    "\n",
    "Therefore, we have to scale/normalize our data before using the distance based algorithm (in this case SVM), so that all the features will contribute equally to the final distance or result."
   ]
  },
  {
   "cell_type": "markdown",
   "metadata": {},
   "source": [
    "#### Let us now code the scaling of data with the library sklearn.preprocessing.\n",
    "\n",
    "We will use the Standard Scaler from sklearn.preprocessing to normalise the values.\n",
    "The reason why we use this Scaler is because it transforms the data in such a manner that it has mean as 0 and standard deviation as 1, ie, each value will be normalised by subtracting the mean and dividing by standard deviation."
   ]
  },
  {
   "cell_type": "code",
   "execution_count": 12,
   "metadata": {},
   "outputs": [],
   "source": [
    "# Normalisation with Standard Scaler\n",
    "from sklearn.preprocessing import StandardScaler\n",
    "sc = StandardScaler()\n",
    "X_train = sc.fit_transform(X_train)\n",
    "X_test = sc.transform(X_test)"
   ]
  },
  {
   "cell_type": "markdown",
   "metadata": {},
   "source": [
    "----------------------------------------------"
   ]
  },
  {
   "cell_type": "markdown",
   "metadata": {},
   "source": [
    "## Task 4: SVM Classification Model"
   ]
  },
  {
   "cell_type": "markdown",
   "metadata": {},
   "source": [
    "### 4.1 SVM Classification Model\n",
    "\n",
    "**What is an SVM Classfication Model & how does it work? (must have reference comparison to linear regression)**\n",
    "\n",
    "Let us first understand what Linear Regression is. Linear Regression models the relationship between a scalar response and one or more explanatory variables. The model can be represented as a best fit line.\n",
    "On the other hand, a Support Vector Machine (SVM) is a **supervised machine learning algorithm that can be used for _both_ classification and regression. The SVM algorithm creates a line or a hyperplane which separates the data into classes.**\n",
    "\n",
    "For binary classification, SVM separates data points into two classes via a line(/hyperplane).\n",
    "\n",
    "**What then is SVM’s method to find the best hyperplane to separate them into classes?**\n",
    "\n",
    "Well, according to the SVM algorithm, it finds the points closest to the line from both the classes (prependicular distance). These points are called **support vectors**. So, it computes the distance between the line and the support vectors, and this distance is called the margin. The goal of SVM is to maximize these margins. Thus, the hyperplane for which the margins are the maximum is the optimal hyperplane.\n",
    "\n",
    "For multi-class classification, the same principle from binary classification is utilized after breaking down the multiclassification problem into multiple binary classification problems.\n",
    "\n",
    "\n",
    "**What is the kernel in SVM?**\n",
    "\n",
    "SVM algorithms use a set of mathematical functions that are defined as the kernel. A Kernel/Kernel Function is a method used to require data as input and maps the data to a higher dimension where the data is separable. Basically, the data is not linearly separable in 2-D. So we need to project the data up by some number of dimensions using a mapping function, where in that dimension plane the data will be separable. Thus, it is a way of computing the dot product of two vectors x and y in some feature space so that the data will be separable.\n",
    "\n",
    "Here are 3 types of kernel widely used for SVM models:\n",
    "\n",
    "\n",
    "1) **Linear Kernel**\n",
    "This is the formula: \n",
    "\n",
    "$$F(x, xj) = sum(x.xj)$$\n",
    "\n",
    " '**.**' means dot product\n",
    "\n",
    "Here, x, xj represents the data you’re trying to classify. (feature vectors)\n",
    "\n",
    "This is the most basic type that is usually 1-Dimensional. It proves as the best function when there are many features. Linear kernels are preferred for text-classification problems as most of these kinds of classification problems can be linearly separated.\n",
    "*Note: Linear kernel functions are faster than other functions. \n",
    "\n",
    "2) **Polynomial Kernel**\n",
    "\n",
    "This is the formula: \n",
    "\n",
    "$$F(x, xj) = (x.xj+1)^d$$\n",
    "\n",
    " '**.**' means dot product, '**d**' means degree\n",
    "\n",
    "Again, x, xj represents the data you’re trying to classify. (feature vectors)\n",
    "\n",
    "This is a more generalized representation of the linear kernel.\n",
    "\n",
    "3) **Gaussian Radial Basis Function (RBF)**\n",
    "\n",
    "This is the formula for RBF: \n",
    "\n",
    "$$F(x, xj) = exp(-gamma * ||x - xj||^2)$$\n",
    "\n",
    "Again, x, xj represents the data you’re trying to classify. (feature vectors)\n",
    "\n",
    "\n",
    "This: $$||x - xj||^2$$ is recognized as the squared Euclidean distance between the two data points x & xj.\n",
    "\n",
    "\n",
    "The value of gamma varies from 0 to 1. Gamma can be thought of as the 'spread' of the kernel and thus the 'spread' of the decision region. When the gamma is low, the 'curve' of the decision boundary is very low and thus the decision region is broad. When gamma is high, the 'curve' of the decision boundary is high.\n",
    "\n",
    "In this assignment, we will use the **linear kernel as our dataset has a lot of features and linear kernels are mostly preferred for text classification.**"
   ]
  },
  {
   "cell_type": "markdown",
   "metadata": {},
   "source": [
    "### 4.2 Let us now build the SVM Model."
   ]
  },
  {
   "cell_type": "markdown",
   "metadata": {},
   "source": [
    "We will **import the SVC function** to build the SVM model from sklearn.svm.\n",
    "\n",
    "I have added parameters for my model:\n",
    "\n",
    "1. **C**: The C parameter tells the SVM optimization how much to avoid misclassifying each training example.\n",
    "\n",
    "2. **kernel = 'linear'**: This specifies the kernel type to be used in the algorithm. We have used the linear kernel here for a linear SVM."
   ]
  },
  {
   "cell_type": "code",
   "execution_count": 13,
   "metadata": {},
   "outputs": [
    {
     "data": {
      "text/plain": [
       "SVC(C=100, kernel='linear')"
      ]
     },
     "execution_count": 13,
     "metadata": {},
     "output_type": "execute_result"
    }
   ],
   "source": [
    "from sklearn.svm import SVC\n",
    "# Create classifier with linear kernel\n",
    "classifier = SVC(kernel='linear',C=100)\n",
    "classifier.fit(X_train, y_train)"
   ]
  },
  {
   "cell_type": "markdown",
   "metadata": {},
   "source": [
    "# Task 4. Model Testing"
   ]
  },
  {
   "cell_type": "markdown",
   "metadata": {},
   "source": [
    "### 4.1 Code the prediction using testing data."
   ]
  },
  {
   "cell_type": "code",
   "execution_count": 14,
   "metadata": {
    "scrolled": true
   },
   "outputs": [],
   "source": [
    "# Making the predictions for the X_test data\n",
    "y_pred = classifier.predict(X_test)"
   ]
  },
  {
   "cell_type": "markdown",
   "metadata": {},
   "source": [
    "### 4.2 Code, output & explain the confusion matrix\n",
    "\n",
    "Note: I have also coded for a classification report on my y_test & y_pred, to calculate the precision, recall, f1-score and overall accuracy for my prediction. "
   ]
  },
  {
   "cell_type": "code",
   "execution_count": 15,
   "metadata": {
    "scrolled": false
   },
   "outputs": [
    {
     "name": "stderr",
     "output_type": "stream",
     "text": [
      "C:\\Users\\AaronKhoo\\anaconda3\\lib\\site-packages\\sklearn\\metrics\\_classification.py:1221: UndefinedMetricWarning: Precision and F-score are ill-defined and being set to 0.0 in labels with no predicted samples. Use `zero_division` parameter to control this behavior.\n",
      "  _warn_prf(average, modifier, msg_start, len(result))\n"
     ]
    }
   ],
   "source": [
    "# Evaluating the algorithm\n",
    "from sklearn.metrics import classification_report, confusion_matrix\n",
    "cm = confusion_matrix(y_test, y_pred)\n",
    "cr = classification_report(y_test, y_pred)"
   ]
  },
  {
   "cell_type": "code",
   "execution_count": 16,
   "metadata": {
    "scrolled": false
   },
   "outputs": [
    {
     "name": "stdout",
     "output_type": "stream",
     "text": [
      "[[ 0  5  1  0  0]\n",
      " [ 0 10  8  0  0]\n",
      " [ 0  3 92 25  0]\n",
      " [ 0  0 23 84  0]\n",
      " [ 0  0  1 15  0]]\n"
     ]
    }
   ],
   "source": [
    "# Output the confusion matrix\n",
    "print(cm)"
   ]
  },
  {
   "cell_type": "markdown",
   "metadata": {},
   "source": [
    "**What is a Confusion Matrix?**\n",
    "\n",
    "The confusion matrix is a performance _measurement_ for machine learning classification problems where output can be split into two or more classes. Here we see that the confusion matrix is a 6x6 matrix, which shows that there are six classes for the score from the training dataset.\n",
    "This matrix tells us about the distribution of our predicted values across all the actual outcomes.\n",
    "\n",
    "With a confusion matrix, we can use it to visualise and thus calculate the following metrics:\n",
    "\n",
    "1. True Positives\n",
    "3. True Negatives\n",
    "4. True Negatives\n",
    "5. False Positives\n",
    "6. False Negatives\n",
    "7. Accuracy\n",
    "8. Precision\n",
    "9. Recall/Sensitivity\n",
    "10. Specificity\n",
    "11. Negative Predictive Value\n",
    "\n",
    "Note that the **diagonals** in a confusion matrix refer to the number of points for which the predicted label is equal to the true label.\n",
    "\n",
    "We will look at Precision and Recall for each class in the classification report below."
   ]
  },
  {
   "cell_type": "code",
   "execution_count": 17,
   "metadata": {
    "scrolled": true
   },
   "outputs": [
    {
     "name": "stdout",
     "output_type": "stream",
     "text": [
      "              precision    recall  f1-score   support\n",
      "\n",
      "           1       0.00      0.00      0.00         6\n",
      "           2       0.56      0.56      0.56        18\n",
      "           3       0.74      0.77      0.75       120\n",
      "           4       0.68      0.79      0.73       107\n",
      "           5       0.00      0.00      0.00        16\n",
      "\n",
      "    accuracy                           0.70       267\n",
      "   macro avg       0.39      0.42      0.41       267\n",
      "weighted avg       0.64      0.70      0.67       267\n",
      "\n"
     ]
    }
   ],
   "source": [
    "# classification report\n",
    "print(cr)"
   ]
  },
  {
   "cell_type": "markdown",
   "metadata": {},
   "source": [
    "The metrics calculated for the classification report use each of the TP & TN & FP & FN numbers as shown in the confusion matrix earlier.\n",
    "\n",
    "Here we see that the the is **precision** (number of correct prediction divided by the number of total predictions made) is high for scores 2, 3, 4 and zero for 1, 5, 6.\n",
    "\n",
    "Also, the **recall** (number of correct predictions divided by the total number of elements present in that class) & **f1-score** shows the same pattern as **precision.**\n",
    "\n",
    "Thus, this might be evidence of the model not being able to predict 1, 5, 6 properly. This could likely be either (1) due to an imbalanced dataset, (2) As it is known that exam scores distribution typically follow a bell-curve and is close to a normal distribution, we can expect that there would be lower examples of scores of the extremes compared to the middle values.\n",
    "\n",
    "**Note**:\n",
    "F1-score is a metric that combines precision and recall into a single measure. Mathematically it would be the harmonic mean of precision and recall. \n",
    "\n",
    "The formula for F1-score = 2* (precision* recall)/(precision+recall)\n",
    "\n",
    "Here, we can see that the **f1-score is 0.70.**\n",
    "\n",
    "However, there might be a better metric to evaluate our model (QWK score), described below."
   ]
  },
  {
   "cell_type": "markdown",
   "metadata": {},
   "source": [
    "### 4.3 What is QWK?\n",
    "\n",
    "Cohen's kappa measures the agreement between two raters who each classify N items into C mutually exclusive categories. It can be used to quantify the amount of agreement/similarity between an algorithm's predictions and some trusted labels of the same objects. \n",
    "\n",
    "\n",
    "Cohen's kappa takes into account disagreement between the two raters, but not the degree of disagreement. \n",
    "\n",
    "The weighted kappa is calculated using a ***predefined table of weights*** which measure **the degree of disagreement between the two raters, the higher the disagreement the higher the weight.**\n",
    "The table of weights should be a symmetric matrix with 0s in the main diagonal (i.e. where there is agreement between the two) and positive values off the main diagonal. The farther apart are the judgments the higher the weights assigned.\n",
    "\n",
    "\n",
    "**Mathematical/Step by Step Explanation of Weighted Kappa:**\n",
    "\n",
    "Suppose that two raters, each independently classify the same set of objects (individuals, observations) into the same set of N categories.\n",
    "\n",
    "\n",
    "\n",
    "The QWK can be calculated as follows:\n",
    "\n",
    "1. First, an N x N histogram matrix O is constructed, such that O(i,j) corresponds to the number of adoption records that have a rating of i (actual) and received a predicted rating j.\n",
    "\n",
    "\n",
    "2. An N-by-N matrix of weights, w, is calculated based on the difference between actual and predicted rating scores. This is done with this formula: \n",
    "\n",
    "$$w(i,j) = (i−j)^2/(N−1)^2$$\n",
    "\n",
    "\n",
    "3. An N-by-N histogram matrix of expected ratings, E, is calculated, assuming that there is no correlation between rating scores. This is calculated as the outer product between the actual rating's histogram vector of ratings and the predicted rating's histogram vector of ratings, normalized such that E and O have the same sum.\n",
    "\n",
    "\n",
    "4. Finally, the Quadratic Weighted Kappa is:\n",
    "\n",
    "$$QWK = 1 - sum(w(i,j), O(i,j) / (w(i,j), E(i,j))$$\n",
    "\n",
    "    where w is the weighted matrix, O is the histogram matrix and E is the expected matrix.\n",
    "\n"
   ]
  },
  {
   "cell_type": "markdown",
   "metadata": {},
   "source": [
    "### 4.4 Code, output & explain the QWK Score."
   ]
  },
  {
   "cell_type": "code",
   "execution_count": 18,
   "metadata": {
    "scrolled": true
   },
   "outputs": [
    {
     "name": "stdout",
     "output_type": "stream",
     "text": [
      "QWK Score: 0.675921146253331\n"
     ]
    }
   ],
   "source": [
    "# Code\n",
    "from sklearn.metrics import cohen_kappa_score\n",
    "qwk = cohen_kappa_score(y_test, y_pred, weights='quadratic')\n",
    "# Output\n",
    "print(\"QWK Score: \" + str(qwk))"
   ]
  },
  {
   "cell_type": "markdown",
   "metadata": {},
   "source": [
    "**Explain the QWK score**\n",
    "\n",
    "The QWK score for my SVM model is 0.67864. (5 decimals)\n",
    "\n",
    "\n",
    "#### What QWK range is acceptable?\n",
    "\n",
    "According to Cohen (1968), Cohen suggested the Kappa result be interpreted as follows: \n",
    "\n",
    "- values ≤ 0 as indicating no agreement \n",
    "- 0.01–0.20 as none to slight, \n",
    "- 0.21–0.40 as fair, \n",
    "- 0.41– 0.60 as moderate, \n",
    "- 0.61–0.80 as substantial, \n",
    "- 0.81–1.00 as almost perfect agreement.\n",
    "\n",
    "For QWK, note that a perfect score of 1.0 is granted when both the predictions and truth labels are the same. And the possible score is -1 which is given when the predictions are furthest away from the truth values.\n",
    "\n",
    "Thus, for my model with 0.67864 as my QWK, the amount of agreement/similarity between its predictions and the truth test labels of the same examples should be substantial only.\n",
    "\n",
    "Also, according to Arora (2018), a QWK of 0.60 and above is considered alright for a model."
   ]
  },
  {
   "cell_type": "markdown",
   "metadata": {},
   "source": [
    "# Task 5. Kaggle Submission Preparation\n",
    "\n",
    "In this section, we are to read the features for submission csv file from the data provided and use our model built earlier to predict the 'score'. (Refer to Note)\n",
    "\n",
    "Note that the competition data file's fields are exactly the same as the data provided for model building **except** that it does not have a 'score' column, as this is the column that we will be predicting values for."
   ]
  },
  {
   "cell_type": "markdown",
   "metadata": {},
   "source": [
    "### Task 6.1 Read the competition data file, perform the prediction on this file"
   ]
  },
  {
   "cell_type": "code",
   "execution_count": 19,
   "metadata": {
    "scrolled": false
   },
   "outputs": [
    {
     "data": {
      "text/html": [
       "<div>\n",
       "<style scoped>\n",
       "    .dataframe tbody tr th:only-of-type {\n",
       "        vertical-align: middle;\n",
       "    }\n",
       "\n",
       "    .dataframe tbody tr th {\n",
       "        vertical-align: top;\n",
       "    }\n",
       "\n",
       "    .dataframe thead th {\n",
       "        text-align: right;\n",
       "    }\n",
       "</style>\n",
       "<table border=\"1\" class=\"dataframe\">\n",
       "  <thead>\n",
       "    <tr style=\"text-align: right;\">\n",
       "      <th></th>\n",
       "      <th>essayid</th>\n",
       "      <th>chars</th>\n",
       "      <th>words</th>\n",
       "      <th>commas</th>\n",
       "      <th>apostrophes</th>\n",
       "      <th>punctuations</th>\n",
       "      <th>avg_word_length</th>\n",
       "      <th>sentences</th>\n",
       "      <th>questions</th>\n",
       "      <th>avg_word_sentence</th>\n",
       "      <th>POS</th>\n",
       "      <th>POS/total_words</th>\n",
       "      <th>prompt_words</th>\n",
       "      <th>prompt_words/total_words</th>\n",
       "      <th>synonym_words</th>\n",
       "      <th>synonym_words/total_words</th>\n",
       "      <th>unstemmed</th>\n",
       "      <th>stemmed</th>\n",
       "    </tr>\n",
       "  </thead>\n",
       "  <tbody>\n",
       "    <tr>\n",
       "      <th>0</th>\n",
       "      <td>1623</td>\n",
       "      <td>4332</td>\n",
       "      <td>900</td>\n",
       "      <td>28</td>\n",
       "      <td>13</td>\n",
       "      <td>0</td>\n",
       "      <td>4.813333</td>\n",
       "      <td>39</td>\n",
       "      <td>1</td>\n",
       "      <td>23.076923</td>\n",
       "      <td>893.988852</td>\n",
       "      <td>0.993321</td>\n",
       "      <td>392</td>\n",
       "      <td>0.435556</td>\n",
       "      <td>196</td>\n",
       "      <td>0.217778</td>\n",
       "      <td>750</td>\n",
       "      <td>750</td>\n",
       "    </tr>\n",
       "    <tr>\n",
       "      <th>1</th>\n",
       "      <td>1143</td>\n",
       "      <td>1465</td>\n",
       "      <td>280</td>\n",
       "      <td>11</td>\n",
       "      <td>3</td>\n",
       "      <td>1</td>\n",
       "      <td>5.232143</td>\n",
       "      <td>14</td>\n",
       "      <td>3</td>\n",
       "      <td>20.000000</td>\n",
       "      <td>278.321343</td>\n",
       "      <td>0.994005</td>\n",
       "      <td>131</td>\n",
       "      <td>0.467857</td>\n",
       "      <td>51</td>\n",
       "      <td>0.182143</td>\n",
       "      <td>339</td>\n",
       "      <td>316</td>\n",
       "    </tr>\n",
       "    <tr>\n",
       "      <th>2</th>\n",
       "      <td>660</td>\n",
       "      <td>1696</td>\n",
       "      <td>325</td>\n",
       "      <td>17</td>\n",
       "      <td>2</td>\n",
       "      <td>0</td>\n",
       "      <td>5.218462</td>\n",
       "      <td>19</td>\n",
       "      <td>1</td>\n",
       "      <td>17.105263</td>\n",
       "      <td>321.316770</td>\n",
       "      <td>0.988667</td>\n",
       "      <td>178</td>\n",
       "      <td>0.547692</td>\n",
       "      <td>92</td>\n",
       "      <td>0.283077</td>\n",
       "      <td>352</td>\n",
       "      <td>337</td>\n",
       "    </tr>\n",
       "    <tr>\n",
       "      <th>3</th>\n",
       "      <td>1596</td>\n",
       "      <td>2640</td>\n",
       "      <td>555</td>\n",
       "      <td>20</td>\n",
       "      <td>17</td>\n",
       "      <td>0</td>\n",
       "      <td>4.756757</td>\n",
       "      <td>28</td>\n",
       "      <td>0</td>\n",
       "      <td>19.821429</td>\n",
       "      <td>551.989150</td>\n",
       "      <td>0.994575</td>\n",
       "      <td>228</td>\n",
       "      <td>0.410811</td>\n",
       "      <td>107</td>\n",
       "      <td>0.192793</td>\n",
       "      <td>632</td>\n",
       "      <td>605</td>\n",
       "    </tr>\n",
       "    <tr>\n",
       "      <th>4</th>\n",
       "      <td>846</td>\n",
       "      <td>2844</td>\n",
       "      <td>596</td>\n",
       "      <td>33</td>\n",
       "      <td>4</td>\n",
       "      <td>1</td>\n",
       "      <td>4.771812</td>\n",
       "      <td>24</td>\n",
       "      <td>9</td>\n",
       "      <td>24.833333</td>\n",
       "      <td>593.658810</td>\n",
       "      <td>0.996072</td>\n",
       "      <td>279</td>\n",
       "      <td>0.468121</td>\n",
       "      <td>138</td>\n",
       "      <td>0.231544</td>\n",
       "      <td>626</td>\n",
       "      <td>607</td>\n",
       "    </tr>\n",
       "  </tbody>\n",
       "</table>\n",
       "</div>"
      ],
      "text/plain": [
       "   essayid  chars  words  commas  apostrophes  punctuations  avg_word_length  \\\n",
       "0     1623   4332    900      28           13             0         4.813333   \n",
       "1     1143   1465    280      11            3             1         5.232143   \n",
       "2      660   1696    325      17            2             0         5.218462   \n",
       "3     1596   2640    555      20           17             0         4.756757   \n",
       "4      846   2844    596      33            4             1         4.771812   \n",
       "\n",
       "   sentences  questions  avg_word_sentence         POS  POS/total_words  \\\n",
       "0         39          1          23.076923  893.988852         0.993321   \n",
       "1         14          3          20.000000  278.321343         0.994005   \n",
       "2         19          1          17.105263  321.316770         0.988667   \n",
       "3         28          0          19.821429  551.989150         0.994575   \n",
       "4         24          9          24.833333  593.658810         0.996072   \n",
       "\n",
       "   prompt_words  prompt_words/total_words  synonym_words  \\\n",
       "0           392                  0.435556            196   \n",
       "1           131                  0.467857             51   \n",
       "2           178                  0.547692             92   \n",
       "3           228                  0.410811            107   \n",
       "4           279                  0.468121            138   \n",
       "\n",
       "   synonym_words/total_words  unstemmed  stemmed  \n",
       "0                   0.217778        750      750  \n",
       "1                   0.182143        339      316  \n",
       "2                   0.283077        352      337  \n",
       "3                   0.192793        632      605  \n",
       "4                   0.231544        626      607  "
      ]
     },
     "execution_count": 19,
     "metadata": {},
     "output_type": "execute_result"
    }
   ],
   "source": [
    "comp = pd.read_csv(\"C:\\\\Users\\\\Aaron Khoo\\\\Documents\\\\Vanessa\\\\1_Monash\\\\Y1S2\\\\FIT1043\\\\Assignment\\\\Assignment 2\\\\data\\\\FIT1043-Essay-Features-Submission.csv\")\n",
    "comp.head(5) # see a sample of the data"
   ]
  },
  {
   "cell_type": "code",
   "execution_count": 20,
   "metadata": {
    "scrolled": true
   },
   "outputs": [],
   "source": [
    "# Remove features from competition data\n",
    "data = comp.drop(to_remove, axis=1)\n",
    "\n",
    "# Normalise data values with previous transformed scaler!! (STUPID YOU SH!!)\n",
    "data = sc.transform(data)\n",
    "\n",
    "# Predict the scores\n",
    "score_k = classifier.predict(data)"
   ]
  },
  {
   "cell_type": "markdown",
   "metadata": {},
   "source": [
    "### Task 6.2 Output to the submission CSV (in the right CSV format)"
   ]
  },
  {
   "cell_type": "code",
   "execution_count": 21,
   "metadata": {},
   "outputs": [],
   "source": [
    "# Read submission file, and making dataframe from the csv file \n",
    "df = pd.read_csv(\"C:\\\\Users\\\\Aaron Khoo\\\\Documents\\\\Vanessa\\\\1_Monash\\\\Y1S2\\\\FIT1043\\\\Assignment\\\\Assignment 2\\\\data\\\\31417493-VanessaKhoo-1.csv\") \n",
    "    \n",
    "# Put whatever series you want in its place\n",
    "df['score'] = score_k\n",
    "  \n",
    "# writing  the dataframe to another csv file\n",
    "df.to_csv(\"C:\\\\Users\\\\Aaron Khoo\\\\Documents\\\\Vanessa\\\\1_Monash\\\\Y1S2\\\\FIT1043\\\\Assignment\\\\Assignment 2\\\\data\\\\31417493-VanessaKhoo-1.csv\", \n",
    "                 index = False)"
   ]
  },
  {
   "cell_type": "markdown",
   "metadata": {},
   "source": [
    "# Conclusion"
   ]
  },
  {
   "cell_type": "markdown",
   "metadata": {},
   "source": [
    "**Therefore, we have reached the end of all the tasks to be done for the assignment.**\n",
    "\n",
    "Through this assignment, I have acknowledged the feasibility of using machine learning algorithms to score essays and similar school work. With these ML algorithms and AI tools, automated marking has observed to have been adopted by some countries like China already. (Chen, 2018). However, there is still debate on the feasibility of AI computer scoring of human writing. (Greene, 2018)\n",
    "\n",
    "And as a recap, by the end of the assignment we indeed have:\n",
    "\n",
    "1. Read and described the data using basic statistics and with NLP (natural language processing) terms\n",
    "2. Split the dataset into training and testing (/validation)\n",
    "3. Conducted multi-class specification using SVM / Regression (Support Vector Machines)\n",
    "4. Communicated output of our analysis using QWK\n",
    "5. Experienced independent model evaluation through in-class Kaggle competition.\n",
    "\n",
    "Therefore, through this assignment, I believe I have been able to enhance and grow my own learning on not only classification and support vactor machines, but also on other machine learning models and problems in general. It also has been a very fruitful time learning and researching on topics on Machine Learning beyond the classroom."
   ]
  },
  {
   "cell_type": "markdown",
   "metadata": {},
   "source": [
    "<h1 style=\"font-size: 30px;text-align:center;\"> References </h1>"
   ]
  },
  {
   "cell_type": "markdown",
   "metadata": {},
   "source": [
    "  Aman1608. (2020, October 10). Feature Selection Techniques in Machine Learning. Retrieved from\n",
    "  \n",
    "      https://www.analyticsvidhya.com/blog/2020/10/feature-selection-techniques-in-machine-learning/\n",
    "  \n",
    "  \n",
    "  Sckikit-learn.org (2020). Compare the effect of different scalers on data. Retrieved from \n",
    "      \n",
    "      http://scikit-learn.org/stable/auto_examples/preprocessing/plot_all_scaling.html\n",
    "      \n",
    "  Suriya. (2016, July 25) Support Vector Machines – Kernel Explained. Retrieved from\n",
    "      \n",
    "      https://codingmachinelearning.wordpress.com/2016/07/25/support-vector-machines-kernel-explained/\n",
    "\n",
    "  Kowalczyk, Alexandre. (2014, October 19). Linear Kernel: Why is it recommended for text classification?. Retrieved from\n",
    "      \n",
    "      https://www.svm-tutorial.com/2014/10/svm-linear-kernel-good-text-classification/\n",
    "\n",
    "  Quadratic weighted kappa. (n.d.) Retrieved from \n",
    "      \n",
    "      http://kagglesolutions.com/r/evaluation-metrics--quadratic-weighted-kappa\n",
    "\n",
    "  Schmueli, B. (2019, December 18). Multi-Class Metrics Made Simple, Part III: the Kappa Score (aka Cohen’s Kappa Coefficient). Retrieved from \n",
    "      \n",
    "      https://towardsdatascience.com/multi-class-metrics-made-simple-the-kappa-score-aka-cohens-kappa-coefficient-bdea137af09c\n",
    "\n",
    "  Lanaro, G. (2016, February 3). Evaluation measures for multiclass problems. Retrieved from \n",
    "      \n",
    "      https://www.kaggle.com/gpreda/covid-world-vaccination-progress\n",
    "\n",
    "  McHugh, M. (2012, October). Interrater reliability: the kappa statistic. Retrieved from \n",
    "      \n",
    "      https://www.ncbi.nlm.nih.gov/pmc/articles/PMC3900052/#:~:text=Cohen%20suggested%20the%20Kappa%20result,1.00%20as%20almost%20perfect%20agreement.\n",
    "\n",
    "  Arora, A. (2018). Quadratic Kappa Metric explained in 5 simple steps. Retrieved from \n",
    "      \n",
    "      https://www.kaggle.com/aroraaman/quadratic-kappa-metric-explained-in-5-simple-steps\n",
    "\n",
    "  Chen, S. (2018, May 27). China’s schools are quietly using AI to mark students’ essays ... but do the robots make the grade?. Retrived from\n",
    "      \n",
    "      https://www.scmp.com/news/china/society/article/2147833/chinas-schools-are-quietly-using-ai-mark-students-essays-do\n",
    "\n",
    "  Greene, P. (2018, July 2). Automated Essay Scoring Remains An Empty Dream. Retrieved from\n",
    "      \n",
    "      https://www.forbes.com/sites/petergreene/2018/07/02/automated-essay-scoring-remains-an-empty-dream/?sh=4663c74174b9"
   ]
  }
 ],
 "metadata": {
  "kernelspec": {
   "display_name": "Python 3",
   "language": "python",
   "name": "python3"
  },
  "language_info": {
   "codemirror_mode": {
    "name": "ipython",
    "version": 3
   },
   "file_extension": ".py",
   "mimetype": "text/x-python",
   "name": "python",
   "nbconvert_exporter": "python",
   "pygments_lexer": "ipython3",
   "version": "3.8.3"
  }
 },
 "nbformat": 4,
 "nbformat_minor": 5
}
